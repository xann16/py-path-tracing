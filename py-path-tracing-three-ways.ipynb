{
 "cells": [
  {
   "cell_type": "code",
   "execution_count": 2,
   "metadata": {},
   "outputs": [
    {
     "name": "stdout",
     "output_type": "stream",
     "text": [
      "Hello\n"
     ]
    }
   ],
   "source": [
    "# PTRACE NB STUB\n",
    "\n",
    "from ptrace.core import hello\n",
    "\n",
    "print(hello())"
   ]
  },
  {
   "cell_type": "code",
   "execution_count": 3,
   "metadata": {},
   "outputs": [
    {
     "name": "stdout",
     "output_type": "stream",
     "text": [
      "........\r\n",
      "----------------------------------------------------------------------\r\n",
      "Ran 8 tests in 0.052s\r\n",
      "\r\n",
      "OK\r\n"
     ]
    }
   ],
   "source": [
    "! ./run-tests.sh"
   ]
  },
  {
   "cell_type": "code",
   "execution_count": 4,
   "metadata": {},
   "outputs": [
    {
     "name": "stdout",
     "output_type": "stream",
     "text": [
      "\r\n",
      "--------------------------------------------------------------------\r\n",
      "Your code has been rated at 10.00/10 (previous run: 10.00/10, +0.00)\r\n",
      "\r\n"
     ]
    }
   ],
   "source": [
    "! ./run-pylint.sh"
   ]
  },
  {
   "cell_type": "markdown",
   "metadata": {},
   "source": [
    "### PLAN: ###\n",
    " - Intro\n",
    " - Theoretical sketch (monte-carlo, raytracing, ...)\n",
    " - Implementation walkthrough (three-ways, used packages, commons, three-modules, examples, tests, pylint)\n",
    " - Results (renderings, benchmarks)\n",
    " - Conclusion\n",
    " - Sources / References"
   ]
  },
  {
   "cell_type": "code",
   "execution_count": 17,
   "metadata": {},
   "outputs": [],
   "source": [
    "import numpy as np\n",
    "from PIL import Image\n",
    "\n",
    "\n",
    "\n",
    "img = np.random.random((100,100,3))\n",
    "rescaled = (255.0 / img.max() * (img - img.min())).astype(np.uint8)\n",
    "im = Image.fromarray(rescaled)\n"
   ]
  }
 ],
 "metadata": {
  "kernelspec": {
   "display_name": "Python 3",
   "language": "python",
   "name": "python3"
  },
  "language_info": {
   "codemirror_mode": {
    "name": "ipython",
    "version": 3
   },
   "file_extension": ".py",
   "mimetype": "text/x-python",
   "name": "python",
   "nbconvert_exporter": "python",
   "pygments_lexer": "ipython3",
   "version": "3.7.5"
  }
 },
 "nbformat": 4,
 "nbformat_minor": 2
}
